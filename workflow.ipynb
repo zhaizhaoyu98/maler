{
 "cells": [
  {
   "cell_type": "code",
   "execution_count": null,
   "id": "bc471f0c",
   "metadata": {},
   "outputs": [],
   "source": [
    "import pandas as pd\n",
    "import numpy as np\n",
    "from sklearn.preprocessing import LabelEncoder, label_binarize\n",
    "from sklearn.feature_selection import SelectKBest, chi2, f_classif\n",
    "from sklearn.model_selection import RepeatedStratifiedKFold, cross_val_score"
   ]
  },
  {
   "cell_type": "code",
   "execution_count": 2,
   "id": "c1e69d20",
   "metadata": {
    "ExecuteTime": {
     "end_time": "2024-06-07T08:41:08.219077Z",
     "start_time": "2024-06-07T08:41:08.177678Z"
    }
   },
   "outputs": [],
   "source": [
    "%run feature_selection_methods.ipynb\n",
    "%run data_normalization.ipynb\n",
    "%run gridsearch.ipynb"
   ]
  },
  {
   "cell_type": "code",
   "execution_count": null,
   "id": "5898dce5",
   "metadata": {},
   "outputs": [],
   "source": [
    "model, model_name, gridsearch_para = select_class_model(request)"
   ]
  },
  {
   "cell_type": "markdown",
   "id": "a1d61132",
   "metadata": {},
   "source": [
    "## classification"
   ]
  },
  {
   "cell_type": "code",
   "execution_count": null,
   "id": "f1519d66",
   "metadata": {},
   "outputs": [],
   "source": [
    "#preprocessing\n",
    "train_set, test_set, blind_set = split_train_test(inputdata)\n",
    "data, label = classification_process(train_set)\n",
    "label3, classes = label_pre(label)\n",
    "validation_data = []  # 预先定义\n",
    "if len(test_set) > 0:\n",
    "    validation_data, validation_label = classification_process(test_set)\n",
    "    validation_label, ll = label_pre(validation_label)\n",
    "\n",
    "# feature selection\n",
    "if fsm == 'A':\n",
    "    features = selectkbest_top20(data, label3, k=50)\n",
    "    Fsm = 'ANOVA'\n",
    "elif fsm == 'M':\n",
    "    features = mrmr_fs(data, label3, form_action) #form_action: classification or regression\n",
    "    Fsm = 'MRMR'\n",
    "\n",
    "data3 = data.loc[:, features]\n",
    "train_index, test_index = RSKFold(data3, label3)  # 十次五折交叉验证"
   ]
  },
  {
   "cell_type": "code",
   "execution_count": null,
   "id": "3ff8e9e9",
   "metadata": {},
   "outputs": [],
   "source": [
    "if feature_select_method == 'TopK':\n",
    "    cv = RepeatedStratifiedKFold(n_splits=10, n_repeats=1, random_state=10)\n",
    "    clf_num, ms = pre_screening(data3, label3, svc, features, cv=cv) #svc: machine_learning model\n",
    "    tests, estimators, mean_accs, preds, f_names = train_top3(svc, data3, label3, clf_num,\n",
    "                                                                     train_index, test_index, features)  ##\n",
    "    max_features = f_names\n",
    "    line_chart_data = []\n",
    "    line_trace = {\n",
    "        'mode': 'lines+markers',\n",
    "        'name': clf_name,\n",
    "        'type': 'scatter',\n",
    "        'x': list(range(1, len(ms) + 1)),\n",
    "        'y': ms\n",
    "    }\n",
    "    line_chart_data.append(line_trace)\n",
    "    final_reports, f_describe = customized_report(clf_name, estimators, data3, label3, preds,\n",
    "                                                  test_index, f_names, tests)\n",
    "    \n",
    "elif feature_select_method == 'FSS' or feature_select_method == 'BSS':\n",
    "    print(\"run FSS or BSS\")\n",
    "    cv2 = RepeatedStratifiedKFold(n_splits=5, n_repeats=1, random_state=10)\n",
    "    start = time.perf_counter()\n",
    "    if feature_select_method == 'FSS':\n",
    "        selected_feature, max_scores = FSS_fun(features, svc, data3, label3, cv2, n_jobs=5)  \n",
    "    else:\n",
    "        selected_feature, max_scores = BSS_fun(features, svc, data3, label3, cv2, n_jobs=5)  \n",
    "    # 得到最值\n",
    "    max_index = max_scores.index(np.nanmax(max_scores))\n",
    "    max_score = max(max_scores)\n",
    "    max_features = selected_feature[:max_index + 1]\n",
    "    preds, tests, estimators = [], [], []\n",
    "    for i in range(len(train_index)):\n",
    "        xtrain, ytrain = data3.iloc[train_index[i], :], label3[train_index[i]]\n",
    "        xtest, ytest = data3.iloc[test_index[i], :], label3[test_index[i]]\n",
    "        xtrain, xtest = xtrain[max_features], xtest[max_features]\n",
    "        estimator, test_acc, predict = train_estimator(svc, xtrain, ytrain, xtest, ytest)\n",
    "        tests.append(test_acc), estimators.append(estimator), preds.append(predict)\n",
    "    end = time.perf_counter()\n",
    "    print(round(end - start, 2))\n",
    "    line_chart_data = []\n",
    "    trace = {\n",
    "        'mode': 'lines+markers',\n",
    "        'name': clf_name,\n",
    "        'type': 'scatter',\n",
    "        'x': list(range(1, len(max_scores) + 1)),\n",
    "        'y': max_scores\n",
    "    }\n",
    "    line_chart_data.append(trace)\n",
    "    final_reports, f_describe = customized_report(clf_name, estimators, data3, label3, preds, test_index,\n",
    "                                                  max_features, tests)\n",
    "\n",
    "\n",
    "    final_reports_dict = df2bp(final_reports)\n",
    "    f_describe = np.round(f_describe.loc[(\"mean\", 'min', 'max', 'std'), :],\n",
    "                          3).reset_index().rename(columns={'index': 'Method'})  # 测试集准确率指数\n",
    "    f_describe_dict = f_describe.to_dict('records')\n"
   ]
  },
  {
   "cell_type": "code",
   "execution_count": null,
   "id": "38cbe61f",
   "metadata": {},
   "outputs": [],
   "source": [
    "# gridsearch\n",
    "start = time.perf_counter()\n",
    "grid_search = gridsearch_bulid(svc, gridsearch_para, clf_name)\n",
    "grid_search.fit(data3[max_features], label3)\n",
    "end = time.perf_counter()\n",
    "print('gridserach time: ', round(end - start, 2))\n",
    "# 比较\n",
    "for i in range(len(train_index)):\n",
    "    xtrain, ytrain = data3.iloc[train_index[i], :], label3[train_index[i]]\n",
    "    xtest, ytest = data3.iloc[test_index[i], :], label3[test_index[i]]\n",
    "    xtrain, xtest = xtrain[max_features], xtest[max_features]\n",
    "    grid_estimator, test_acc, predict = train_estimator(grid_search.best_estimator_, xtrain, ytrain, xtest, ytest)\n",
    "    grid_tests.append(test_acc), grid_estimators.append(grid_estimator), grid_preds.append(predict)\n",
    "grid_reports, grid_describe = customized_report(clf_name, grid_estimators, data3, label3,grid_preds, test_index, max_features, grid_tests)\n",
    "if grid_describe.loc['mean', 'test_accuracy'] > f_describe.loc['mean', 'test_accuracy']:\n",
    "    print('using gridsearch para')\n",
    "    preds, tests, estimators = grid_preds, grid_tests, grid_estimators\n",
    "    final_reports, f_describe = grid_reports, grid_describe\n",
    "else:\n",
    "    print('raw')\n",
    "    best_para = \"using raw parameters\""
   ]
  },
  {
   "cell_type": "code",
   "execution_count": null,
   "id": "05aad916",
   "metadata": {},
   "outputs": [],
   "source": [
    "tmodels = copy.deepcopy(estimators[0])\n",
    "tmodels.fit(data3[max_features], label3)\n",
    "best_esti.append(tmodels)#best_esti: The optimal model\n",
    "#validation\n",
    "validate_predict, validate_report = pre_valid(best_esti[0], validation_data, validation_label,max_features)"
   ]
  },
  {
   "cell_type": "markdown",
   "id": "daf58d63",
   "metadata": {},
   "source": [
    "## regression "
   ]
  },
  {
   "cell_type": "code",
   "execution_count": null,
   "id": "7308b894",
   "metadata": {},
   "outputs": [],
   "source": [
    "train_set, test_set, blind_set = split_train_test(inputdata)\n",
    "nordata4, nor_age4 = regression_preprocess(train_set)\n",
    "if len(test_set) > 0:\n",
    "    validation_data, validation_label = regression_preprocess(test_set)\n",
    "\n",
    "\n",
    "if fsm == 'A':\n",
    "    features = selectkbest_top20(nordata4, nor_age4, k=50)\n",
    "    Fsm = 'ANOVA'\n",
    "elif fsm == 'M':\n",
    "    features = mrmr_fs(nordata4, nor_age4,form_action,k=50)\n",
    "    Fsm = 'MRMR'\n",
    "    \n",
    "nordata4 = nordata4[features]\n",
    "train_index, test_index = RegressionKFold(nordata4, nor_age4)\n",
    "cv = RepeatedKFold(n_splits=5, n_repeats=1, random_state=10)"
   ]
  },
  {
   "cell_type": "code",
   "execution_count": null,
   "id": "e26c2b62",
   "metadata": {},
   "outputs": [],
   "source": [
    "if feature_select_method == 'FSS' or feature_select_method == 'BSS':\n",
    "    if feature_select_method == 'BSS':\n",
    "        sf, ms = BSS_fun(features, reg_cust_model, nordata4, nor_age4, cv, n_jobs=5)\n",
    "    else:\n",
    "        sf, ms = FSS_fun(features, reg_cust_model, nordata4, nor_age4, cv, n_jobs=5)\n",
    "    max_index = np.array(ms).argmax()\n",
    "    # max_index = ms.index(np.nanmax(ms))\n",
    "    max_score = max(ms)\n",
    "    max_features = (sf[:max_index + 1])\n",
    "    preds, tests, estimators = [], [], []\n",
    "    for i in range(len(train_index)):\n",
    "        xtrain, ytrain = nordata4.iloc[train_index[i], :], nor_age4[train_index[i]]\n",
    "        xtest, ytest = nordata4.iloc[test_index[i], :], nor_age4[test_index[i]]\n",
    "        xtrain, xtest = xtrain[max_features], xtest[max_features]\n",
    "        estimator, test_acc, predict = train_estimator_reg(reg_cust_model, xtrain, ytrain, xtest, ytest)\n",
    "        tests.append(test_acc), estimators.append(estimator), preds.append(predict)\n",
    "else: #topK method\n",
    "    clf_num, ms = pre_screening(nordata4, nor_age4, reg_cust_model, features)\n",
    "    tests, estimators, mean_accs, preds, res = train_top3_reg(reg_cust_model, nordata4, nor_age4,\n",
    "                                                                          clf_num, train_index, test_index,\n",
    "                                                                          features)\n",
    "\n",
    "    # max_features = list(nordata4.iloc[:, clf_num].columns)\n",
    "    max_features = res\n",
    "line_chart_data = []\n",
    "line_trace = {\n",
    "    'mode': 'lines+markers',\n",
    "    'name': reg_model_name,\n",
    "    'type': 'scatter',\n",
    "    'x': list(range(1, len(ms)+1)),\n",
    "    'y': ms\n",
    "}\n",
    "line_chart_data.append(line_trace)\n",
    "\n",
    "cust_reports, cust_reports_describe = cust_cv_reports(preds, test_index, nor_age4, tests)\n",
    "\n"
   ]
  },
  {
   "cell_type": "code",
   "execution_count": null,
   "id": "c8926605",
   "metadata": {},
   "outputs": [],
   "source": [
    "# gridsearch\n",
    "start = time.perf_counter()\n",
    "grid_search = gridsearch_bulid(reg_cust_model, gridsearch_para, reg_model_name)\n",
    "grid_search.fit(nordata4[max_features], nor_age4)\n",
    "end = time.perf_counter()\n",
    "print('gridserach time: ', round(end - start, 2))\n",
    "for i in range(len(train_index)):\n",
    "    xtrain, ytrain = nordata4.iloc[train_index[i], :], nor_age4[train_index[i]]\n",
    "    xtest, ytest = nordata4.iloc[test_index[i], :], nor_age4[test_index[i]]\n",
    "    xtrain, xtest = xtrain[max_features], xtest[max_features]\n",
    "    grid_estimator, test_acc, predict = train_estimator_reg(grid_search.best_estimator_, xtrain, ytrain, xtest, ytest)\n",
    "    grid_tests.append(test_acc), grid_estimators.append(grid_estimator), grid_preds.append(predict)\n",
    "grid_reports, grid_describe = cust_cv_reports(grid_preds, test_index, nor_age4, grid_tests)\n",
    "\n",
    "if grid_describe.loc['mean', 'R-square'] > cust_reports_describe.loc['mean', 'R-square']:\n",
    "    print('using gridsearch para')\n",
    "    preds, tests, estimators = grid_preds, grid_tests, grid_estimators\n",
    "    final_reports, f_describe = grid_reports, grid_describe\n",
    "    best_para = grid_search.best_params_\n",
    "else:\n",
    "    print('raw')\n",
    "    best_para = \"using raw parameters\""
   ]
  },
  {
   "cell_type": "code",
   "execution_count": null,
   "id": "1151b9f1",
   "metadata": {},
   "outputs": [],
   "source": [
    "cust_reports_dict = df2bp(cust_reports)\n",
    "cust_reports_describe_ = cust_reports_describe.reset_index().rename(columns={'index': 'Method'})  # 测试集准确率指数\n",
    "cust_reports_describe_dict = cust_reports_describe_.to_dict('records')"
   ]
  },
  {
   "cell_type": "code",
   "execution_count": null,
   "id": "f6e31512",
   "metadata": {},
   "outputs": [],
   "source": [
    "tmodels = copy.deepcopy(estimators[0])\n",
    "tmodels.fit(nordata4[max_features], nor_age4)\n",
    "best_esti.append(tmodels)\n",
    "#validation\n",
    "val_report = reg_cust_val(best_esti,validation_data,validation_label,max_features, reg_model_name)\n",
    "validate_predict = best_esti[0].predict(validation_data[max_features])\n",
    "val_report = np.round(val_report, 3)\n",
    "val_report = val_report.reset_index().rename(columns={'index': 'Method'})\n",
    "val_report_dict = val_report.to_dict('records')"
   ]
  },
  {
   "cell_type": "markdown",
   "id": "84f72224",
   "metadata": {},
   "source": [
    "## survival analysis "
   ]
  },
  {
   "cell_type": "code",
   "execution_count": null,
   "id": "42bbbef0",
   "metadata": {},
   "outputs": [],
   "source": [
    "train_set, test_set, blind_set = split_train_test(inputdata, datatype='survival')\n",
    "sur, sur_label = sur_data_process(train_set)\n",
    "if len(test_set) > 0:\n",
    "    validation_data, validation_label = sur_data_process(test_set)\n",
    "    ifval = True\n",
    "else:\n",
    "    ifval = False\n",
    "cv = KFold(n_splits=5, shuffle=True, random_state=10)\n",
    "            features = cox_selection(sur, sur_label)\n",
    "            sur_d = sur[features]\n",
    "            train_index, test_index = sur_RSKFold(sur_d, sur_label)"
   ]
  },
  {
   "cell_type": "code",
   "execution_count": null,
   "id": "3d98e4cd",
   "metadata": {},
   "outputs": [],
   "source": [
    "if feature_select_method != 'TopK':\n",
    "    if feature_select_method == 'FSS':\n",
    "        sf, ms = FSS_fun(features, sur_model, sur_d, sur_label, cv, n_jobs=4)\n",
    "    else:\n",
    "        sf, ms = BSS_fun(features, sur_model, sur_d, sur_label, cv, n_jobs=4)\n",
    "    max_index = np.array(ms).argmax()\n",
    "    max_score = max(ms)\n",
    "    max_features = (sf[:max_index + 1])\n",
    "    preds, tests, estimators = [], [], []\n",
    "    for i in range(len(train_index)):\n",
    "        xtrain, ytrain = sur_d.iloc[train_index[i], :], sur_label[train_index[i]]\n",
    "        xtest, ytest = sur_d.iloc[test_index[i], :], sur_label[test_index[i]]\n",
    "        xtrain, xtest = xtrain[max_features], xtest[max_features]\n",
    "        estimator, test_acc, predict = train_estimator(sur_model, xtrain, ytrain, xtest, ytest)\n",
    "        tests.append(test_acc), estimators.append(estimator), preds.append(predict)\n",
    "else:\n",
    "    clf_num, ms = pre_screening(sur_d, sur_label, sur_model, features)\n",
    "    tests, estimators, mean_accs, preds, res = train_top3(sur_model, sur_d, sur_label, clf_num, train_index,\n",
    "                                                                     test_index, features)\n",
    "    max_features = res\n",
    "test_acc_reports = pd.DataFrame(data=tests)\n",
    "test_acc_reports.columns = [sur_model_name]\n",
    "test_acc_describe = np.round(test_acc_reports.describe().loc[(\"mean\", 'min', 'max', 'std'), :], 3)"
   ]
  },
  {
   "cell_type": "code",
   "execution_count": null,
   "id": "3841686f",
   "metadata": {},
   "outputs": [],
   "source": [
    "if len(gridsearch_para) > 0:\n",
    "    start = time.perf_counter()\n",
    "    #构建tau截断时间\n",
    "    lower, upper = np.percentile(sur_label['time'], [0, 100])\n",
    "    sur_times = np.arange(lower, upper + 1)\n",
    "    grid_search = gridsearch_bulid(sur_model, gridsearch_para, sur_model_name,sur_times)\n",
    "    grid_search.fit(sur_d[max_features], sur_label)\n",
    "    end = time.perf_counter()\n",
    "    print('gridserach time: ', round(end - start, 2))\n",
    "    # 比较\n",
    "    grid_preds, grid_tests, grid_estimators = [], [], []\n",
    "                for i in range(len(train_index)):\n",
    "                    xtrain, ytrain = sur_d.iloc[train_index[i], :], sur_label[train_index[i]]\n",
    "                    xtest, ytest = sur_d.iloc[test_index[i], :], sur_label[test_index[i]]\n",
    "                    xtrain, xtest = xtrain[max_features], xtest[max_features]\n",
    "                    grid_estimator, test_acc, predict = train_estimator(grid_search.best_estimator_.estimator, xtrain,\n",
    "                                                                   ytrain, xtest, ytest)\n",
    "                    grid_tests.append(test_acc), grid_estimators.append(grid_estimator), grid_preds.append(\n",
    "                        predict)\n",
    "                grid_acc_reports = pd.DataFrame(data=grid_tests)\n",
    "                grid_describe = np.round(grid_acc_reports.describe().loc[(\"mean\", 'min', 'max', 'std'), :], 3)\n",
    "                grid_describe.columns = [sur_model_name]\n",
    "    if grid_describe.loc['mean', sur_model_name] > test_acc_describe.loc['mean', sur_model_name]:\n",
    "        print('using gridsearch para')\n",
    "        test_acc_describe, tests, estimators = grid_preds, grid_tests, grid_estimators\n",
    "        f_describe = grid_describe\n",
    "    else:\n",
    "        print('raw')\n",
    "        best_para = \"using raw parameters\""
   ]
  },
  {
   "cell_type": "code",
   "execution_count": null,
   "id": "28865ca6",
   "metadata": {},
   "outputs": [],
   "source": [
    "test_acc_reports_dict = df2bp(test_acc_reports)\n",
    "test_acc_describe_ = test_acc_describe.reset_index().rename(columns={'index': 'Method'})  # 测试集准确率指数\n",
    "test_acc_describe_dict = test_acc_describe_.to_dict('records')\n",
    "\n",
    "tmodels = copy.deepcopy(estimators[0])\n",
    "tmodels.fit(sur_d[max_features], sur_label)\n",
    "best_esti.append(tmodels)"
   ]
  }
 ],
 "metadata": {
  "kernelspec": {
   "display_name": "Python 3 (ipykernel)",
   "language": "python",
   "name": "python3"
  },
  "language_info": {
   "codemirror_mode": {
    "name": "ipython",
    "version": 3
   },
   "file_extension": ".py",
   "mimetype": "text/x-python",
   "name": "python",
   "nbconvert_exporter": "python",
   "pygments_lexer": "ipython3",
   "version": "3.8.5"
  },
  "varInspector": {
   "cols": {
    "lenName": 16,
    "lenType": 16,
    "lenVar": 40
   },
   "kernels_config": {
    "python": {
     "delete_cmd_postfix": "",
     "delete_cmd_prefix": "del ",
     "library": "var_list.py",
     "varRefreshCmd": "print(var_dic_list())"
    },
    "r": {
     "delete_cmd_postfix": ") ",
     "delete_cmd_prefix": "rm(",
     "library": "var_list.r",
     "varRefreshCmd": "cat(var_dic_list()) "
    }
   },
   "types_to_exclude": [
    "module",
    "function",
    "builtin_function_or_method",
    "instance",
    "_Feature"
   ],
   "window_display": false
  }
 },
 "nbformat": 4,
 "nbformat_minor": 5
}
