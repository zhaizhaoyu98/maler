{
 "cells": [
  {
   "cell_type": "code",
   "execution_count": null,
   "id": "9afaf810",
   "metadata": {},
   "outputs": [],
   "source": [
    "import numpy as np\n",
    "import pandas as pd\n",
    "from sklearn.preprocessing import MinMaxScaler, MaxAbsScaler, StandardScaler,RobustScaler"
   ]
  },
  {
   "cell_type": "code",
   "execution_count": null,
   "id": "da12c945",
   "metadata": {},
   "outputs": [],
   "source": [
    "def data_normalization(train_set, test_set, fn, projectid):\n",
    "    print('fn: ',fn)\n",
    "    if fn == 'MM':\n",
    "        scaler = MinMaxScaler()\n",
    "    elif fn == 'Z':\n",
    "        scaler = StandardScaler()\n",
    "    elif fn == 'MA':\n",
    "        scaler = MaxAbsScaler()\n",
    "    elif fn == 'R':\n",
    "        scaler = RobustScaler()\n",
    "    classes = None\n",
    "    X_test_scaled = []\n",
    "    validation_label = None\n",
    "    if projectid.split(\"-\")[0][0] == 'B' or projectid.split(\"-\")[0][0] == 'M':\n",
    "        data, label = classification_process(train_set)\n",
    "        label, classes = label_pre(label)\n",
    "        validation_data = []  # 预先定义\n",
    "        ifval = False\n",
    "        if len(test_set) > 0:\n",
    "            validation_data, validation_label = classification_process(test_set)\n",
    "            validation_label, classes = label_pre(validation_label)\n",
    "            ifval = True\n",
    "    elif projectid.split(\"-\")[0][0] == 'R':\n",
    "        data, label = regression_preprocess(train_set)\n",
    "        ifval = False\n",
    "        if len(test_set) > 0:\n",
    "            validation_data, validation_label = regression_preprocess(test_set)\n",
    "            ifval = True\n",
    "    elif projectid.split(\"-\")[0][0] == 'S':\n",
    "        data, label = sur_data_process(train_set)\n",
    "        ifval = False\n",
    "        if len(test_set) > 0:\n",
    "            validation_data, validation_label = sur_data_process(test_set)\n",
    "            ifval = True\n",
    "\n",
    "    X_train_scaled = scaler.fit_transform(data)\n",
    "    X_train_scaled = pd.DataFrame(X_train_scaled,index=data.index,columns=data.columns)\n",
    "\n",
    "    if len(test_set) > 0:\n",
    "        X_test_scaled = scaler.transform(validation_data)\n",
    "        X_test_scaled = pd.DataFrame(X_test_scaled, index=validation_data.index, columns=validation_data.columns)\n",
    "\n",
    "    norm_data = {'train_set': X_train_scaled,\n",
    "                 'test_set': X_test_scaled,\n",
    "                 'train_set_label': label,\n",
    "                 'test_set_label': validation_label,\n",
    "                 'scaler': scaler,\n",
    "                 'classes': classes,\n",
    "                 'ifval': ifval\n",
    "                 }\n",
    "    print('normalization!')\n",
    "    return norm_data"
   ]
  },
  {
   "cell_type": "code",
   "execution_count": null,
   "id": "6f55119c",
   "metadata": {},
   "outputs": [],
   "source": [
    "# preprocessing\n",
    "def classification_process(data):\n",
    "    data = data.apply(pd.to_numeric,errors='ignore') #转成数值型\n",
    "    x=data.iloc[:,data.columns!=data.columns[0]]\n",
    "    if np.any(x.isnull()) == True:\n",
    "        x=x.fillna(x.mean())  #填充缺失值\n",
    "    y=np.array(data.iloc[:,0]).ravel()\n",
    "    return x,y\n",
    "\n",
    "def regression_preprocess(data):\n",
    "    data = data.apply(pd.to_numeric, errors='ignore')\n",
    "    x = data.iloc[:, data.columns != data.columns[0]]\n",
    "    x = x.fillna(x.mean())  # 填充缺失值\n",
    "    x_dum = pd.get_dummies(x)  # 独热编码\n",
    "    y = np.array(data.iloc[:, 0]).ravel()\n",
    "    return x_dum, y\n",
    "\n",
    "def sur_data_process(data):\n",
    "    data = data.rename(columns={data.columns[0]:'Status', data.columns[1]:'time'})\n",
    "    data2 = data[data['time'].astype(float) >0]\n",
    "    data2 = data2.apply(pd.to_numeric,errors='ignore')\n",
    "\n",
    "    if type(data2['Status'].unique()[0]) == str :\n",
    "        data2['Status'] = data2['Status'].str.lower()\n",
    "        x,y = get_x_y(data2,data2.columns[:2],pos_label='dead')\n",
    "    else:\n",
    "        x,y = get_x_y(data2,data2.columns[:2],pos_label=1)\n",
    "    #转变数据类型，并进行独热编码\n",
    "    x = x.apply(pd.to_numeric,errors='ignore')\n",
    "    x = pd.get_dummies(x)\n",
    "    return x,y"
   ]
  }
 ],
 "metadata": {
  "kernelspec": {
   "display_name": "Python 3 (ipykernel)",
   "language": "python",
   "name": "python3"
  },
  "language_info": {
   "codemirror_mode": {
    "name": "ipython",
    "version": 3
   },
   "file_extension": ".py",
   "mimetype": "text/x-python",
   "name": "python",
   "nbconvert_exporter": "python",
   "pygments_lexer": "ipython3",
   "version": "3.8.5"
  },
  "varInspector": {
   "cols": {
    "lenName": 16,
    "lenType": 16,
    "lenVar": 40
   },
   "kernels_config": {
    "python": {
     "delete_cmd_postfix": "",
     "delete_cmd_prefix": "del ",
     "library": "var_list.py",
     "varRefreshCmd": "print(var_dic_list())"
    },
    "r": {
     "delete_cmd_postfix": ") ",
     "delete_cmd_prefix": "rm(",
     "library": "var_list.r",
     "varRefreshCmd": "cat(var_dic_list()) "
    }
   },
   "types_to_exclude": [
    "module",
    "function",
    "builtin_function_or_method",
    "instance",
    "_Feature"
   ],
   "window_display": false
  }
 },
 "nbformat": 4,
 "nbformat_minor": 5
}
